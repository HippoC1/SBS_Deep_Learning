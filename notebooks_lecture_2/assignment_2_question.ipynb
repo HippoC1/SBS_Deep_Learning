{
 "cells": [
  {
   "cell_type": "markdown",
   "metadata": {},
   "source": [
    "# Assignment 2"
   ]
  },
  {
   "cell_type": "markdown",
   "metadata": {},
   "source": [
    "In this assignment you predict the number of emergency COVID-19 triages from NHS England. When you call 111 or 999 and complete the questions the operator asks you, you may be classified as having COVID-19. Every day hundreds to thousands of people call the NHS for a COVID-19 triage. The attached dataset breaks it down by clinical commissioning group (CCG) for England. "
   ]
  },
  {
   "cell_type": "markdown",
   "metadata": {},
   "source": [
    "Your taks is to relate the population based movement patterns by CCG to the NHS COVID-19 triages. Can recurrent neural networks help predict the the number of people who report symptoms? The dataset we use is called 'assignment2_dataset_train.csv'. The last column contains the NHS triage counts and the variables of interest that you can use are: 'gyration_level', 'gyration_precent', 'home_share' and 'flow_percent'. "
   ]
  },
  {
   "cell_type": "code",
   "execution_count": null,
   "metadata": {},
   "outputs": [],
   "source": [
    "import pandas as pd"
   ]
  },
  {
   "cell_type": "code",
   "execution_count": 1,
   "metadata": {
    "scrolled": false
   },
   "outputs": [
    {
     "data": {
      "text/html": [
       "<div>\n",
       "<style scoped>\n",
       "    .dataframe tbody tr th:only-of-type {\n",
       "        vertical-align: middle;\n",
       "    }\n",
       "\n",
       "    .dataframe tbody tr th {\n",
       "        vertical-align: top;\n",
       "    }\n",
       "\n",
       "    .dataframe thead th {\n",
       "        text-align: right;\n",
       "    }\n",
       "</style>\n",
       "<table border=\"1\" class=\"dataframe\">\n",
       "  <thead>\n",
       "    <tr style=\"text-align: right;\">\n",
       "      <th></th>\n",
       "      <th>date</th>\n",
       "      <th>region</th>\n",
       "      <th>gyration_level</th>\n",
       "      <th>gyration_percent</th>\n",
       "      <th>home_share</th>\n",
       "      <th>flow_percent</th>\n",
       "      <th>TriageCount</th>\n",
       "    </tr>\n",
       "  </thead>\n",
       "  <tbody>\n",
       "    <tr>\n",
       "      <td>0</td>\n",
       "      <td>18/03/2020</td>\n",
       "      <td>NHS Airedale, Wharfedale and Craven CCG</td>\n",
       "      <td>0.631121</td>\n",
       "      <td>-39.289529</td>\n",
       "      <td>30.107527</td>\n",
       "      <td>11.940299</td>\n",
       "      <td>34</td>\n",
       "    </tr>\n",
       "    <tr>\n",
       "      <td>1</td>\n",
       "      <td>19/03/2020</td>\n",
       "      <td>NHS Airedale, Wharfedale and Craven CCG</td>\n",
       "      <td>0.648769</td>\n",
       "      <td>-37.591959</td>\n",
       "      <td>25.628141</td>\n",
       "      <td>0.746269</td>\n",
       "      <td>25</td>\n",
       "    </tr>\n",
       "    <tr>\n",
       "      <td>2</td>\n",
       "      <td>20/03/2020</td>\n",
       "      <td>NHS Airedale, Wharfedale and Craven CCG</td>\n",
       "      <td>0.655987</td>\n",
       "      <td>-36.897625</td>\n",
       "      <td>28.426396</td>\n",
       "      <td>-5.597015</td>\n",
       "      <td>29</td>\n",
       "    </tr>\n",
       "    <tr>\n",
       "      <td>3</td>\n",
       "      <td>21/03/2020</td>\n",
       "      <td>NHS Airedale, Wharfedale and Craven CCG</td>\n",
       "      <td>0.483415</td>\n",
       "      <td>-53.498066</td>\n",
       "      <td>37.912088</td>\n",
       "      <td>-2.238806</td>\n",
       "      <td>48</td>\n",
       "    </tr>\n",
       "    <tr>\n",
       "      <td>4</td>\n",
       "      <td>22/03/2020</td>\n",
       "      <td>NHS Airedale, Wharfedale and Craven CCG</td>\n",
       "      <td>0.244584</td>\n",
       "      <td>-76.472377</td>\n",
       "      <td>42.473118</td>\n",
       "      <td>-1.865672</td>\n",
       "      <td>51</td>\n",
       "    </tr>\n",
       "  </tbody>\n",
       "</table>\n",
       "</div>"
      ],
      "text/plain": [
       "         date                                   region  gyration_level  \\\n",
       "0  18/03/2020  NHS Airedale, Wharfedale and Craven CCG        0.631121   \n",
       "1  19/03/2020  NHS Airedale, Wharfedale and Craven CCG        0.648769   \n",
       "2  20/03/2020  NHS Airedale, Wharfedale and Craven CCG        0.655987   \n",
       "3  21/03/2020  NHS Airedale, Wharfedale and Craven CCG        0.483415   \n",
       "4  22/03/2020  NHS Airedale, Wharfedale and Craven CCG        0.244584   \n",
       "\n",
       "   gyration_percent  home_share  flow_percent  TriageCount  \n",
       "0        -39.289529   30.107527     11.940299           34  \n",
       "1        -37.591959   25.628141      0.746269           25  \n",
       "2        -36.897625   28.426396     -5.597015           29  \n",
       "3        -53.498066   37.912088     -2.238806           48  \n",
       "4        -76.472377   42.473118     -1.865672           51  "
      ]
     },
     "execution_count": 1,
     "metadata": {},
     "output_type": "execute_result"
    }
   ],
   "source": [
    "pd.read_csv('assignment2_dataset_train.csv', index_col = 0).head()"
   ]
  },
  {
   "cell_type": "markdown",
   "metadata": {},
   "source": [
    "A description of the variables is as follows:\n",
    "* gyration level is the median radius of gyration, where the radius of gyration is the smallest radius that you can place around stops of an individual;\n",
    "* gyration percent is the percentage change of the median radius of gyration relative to the 2nd of March;\n",
    "* home_share is the share of the population staying at home (moving less than 100 meters);\n",
    "* flow_percent is the reduction in incoming population flow relative to the 2nd of March."
   ]
  },
  {
   "cell_type": "markdown",
   "metadata": {},
   "source": [
    "For some regions, the NHS triage counts are incomplete for some regions."
   ]
  },
  {
   "cell_type": "markdown",
   "metadata": {},
   "source": [
    "The goal is to accurately predict the TriageCount for the next day, based on the mobility patterns for the previous days. Note that this is real data and it's a real question policy makers are interested in. As in the previous week, we will evalute this assignment as a competition."
   ]
  },
  {
   "cell_type": "markdown",
   "metadata": {},
   "source": [
    "Each team can submit up to three models into the competition. The models are then evaluated based a holdout week that I will provide the teams before their presentations. As in the previous week, please send your models to me by mail to receive your test dataset."
   ]
  },
  {
   "cell_type": "markdown",
   "metadata": {},
   "source": [
    "Each team will present their models next Tuesday within the last 45 minutes of the class. Each team gets up to 8 minutes. Please have your code and models ready for deployment on the evaluation dataset, which has the same structure as the training data. This week, we will use the mean absolute error to evaluate the loss."
   ]
  },
  {
   "cell_type": "markdown",
   "metadata": {},
   "source": [
    "# Good Luck!"
   ]
  }
 ],
 "metadata": {
  "kernelspec": {
   "display_name": "Python 3",
   "language": "python",
   "name": "python3"
  },
  "language_info": {
   "codemirror_mode": {
    "name": "ipython",
    "version": 3
   },
   "file_extension": ".py",
   "mimetype": "text/x-python",
   "name": "python",
   "nbconvert_exporter": "python",
   "pygments_lexer": "ipython3",
   "version": "3.7.5"
  }
 },
 "nbformat": 4,
 "nbformat_minor": 2
}
