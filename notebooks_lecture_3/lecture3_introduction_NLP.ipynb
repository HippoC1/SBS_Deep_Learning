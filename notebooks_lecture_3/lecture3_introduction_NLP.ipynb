{
 "cells": [
  {
   "cell_type": "markdown",
   "metadata": {},
   "source": [
    "# Reuters multiclass categorisation problem"
   ]
  },
  {
   "cell_type": "markdown",
   "metadata": {},
   "source": [
    "This is notebook we will showcase methods natural language processing methods to categorise text into multiple classes. We will use a dataset called reuters, which are newswires from Reuters in the 1980s. Our goal is to predict the category of a newswire. Reuters is an international news organisation owned by Thomson Reuters. It's over 168 years old."
   ]
  },
  {
   "cell_type": "markdown",
   "metadata": {},
   "source": [
    "It is good practise to put the function that we will use in the notebook at the beginning of the notebook. Here I put a function which plots the confusion matrix."
   ]
  },
  {
   "cell_type": "code",
   "execution_count": 2,
   "metadata": {},
   "outputs": [],
   "source": [
    "import matplotlib.pyplot as plt\n",
    "from itertools import islice\n",
    "\n",
    "def plot_confusion_matrix(cm, classes,\n",
    "                          normalize=False,\n",
    "                          title='Confusion matrix',\n",
    "                          cmap=plt.cm.Blues):\n",
    "    \"\"\"\n",
    "    This function prints and plots the confusion matrix.\n",
    "    Normalization can be applied by setting `normalize=True`.\n",
    "    \"\"\"\n",
    "    import itertools\n",
    "    if normalize:\n",
    "        cm = cm.astype('float') / cm.sum(axis=1)[:, np.newaxis]\n",
    "        print(\"Normalized confusion matrix\")\n",
    "    else:\n",
    "        print('Confusion matrix, without normalization')\n",
    "\n",
    "    #print(cm)\n",
    "\n",
    "    plt.imshow(cm, interpolation='nearest', cmap=cmap)\n",
    "    plt.title(title)\n",
    "    plt.colorbar()\n",
    "    tick_marks = np.arange(len(classes))\n",
    "    plt.xticks(tick_marks, classes, rotation=45)\n",
    "    plt.yticks(tick_marks, classes)\n",
    "\n",
    "    fmt = '.2f' if normalize else 'd'\n",
    "    thresh = cm.max() / 2.\n",
    "    for i, j in itertools.product(range(cm.shape[0]), range(cm.shape[1])):\n",
    "        plt.text(j, i, format(cm[i, j], fmt),\n",
    "                 horizontalalignment=\"center\",\n",
    "                 color=\"white\" if cm[i, j] > thresh else \"black\")\n",
    "\n",
    "    plt.ylabel('True label')\n",
    "    plt.xlabel('Predicted label')\n",
    "    plt.tight_layout()\n",
    "    \n",
    "\n",
    "def take(n, iterable):\n",
    "    \"Return first n items of the iterable as a list\"\n",
    "    return list(islice(iterable, n))\n"
   ]
  },
  {
   "cell_type": "markdown",
   "metadata": {},
   "source": [
    "## Load the dataset"
   ]
  },
  {
   "cell_type": "markdown",
   "metadata": {},
   "source": [
    "In the first step, we need to download the reuters dataset from within the NLTK package. NLTK stands for natural langugate toolkit. It is a leading platform for building python programs to work with human language data. "
   ]
  },
  {
   "cell_type": "code",
   "execution_count": 3,
   "metadata": {},
   "outputs": [],
   "source": [
    "import nltk"
   ]
  },
  {
   "cell_type": "code",
   "execution_count": 4,
   "metadata": {
    "scrolled": true
   },
   "outputs": [
    {
     "name": "stderr",
     "output_type": "stream",
     "text": [
      "[nltk_data] Downloading package reuters to\n",
      "[nltk_data]     /home/datascience/nltk_data...\n",
      "[nltk_data]   Package reuters is already up-to-date!\n"
     ]
    },
    {
     "data": {
      "text/plain": [
       "True"
      ]
     },
     "execution_count": 4,
     "metadata": {},
     "output_type": "execute_result"
    }
   ],
   "source": [
    "nltk.download('reuters')"
   ]
  },
  {
   "cell_type": "markdown",
   "metadata": {},
   "source": [
    "We also download a dataset of stopwords, which are used to filter the vocabuary for frequency words with limited meaning."
   ]
  },
  {
   "cell_type": "code",
   "execution_count": 5,
   "metadata": {},
   "outputs": [
    {
     "name": "stderr",
     "output_type": "stream",
     "text": [
      "[nltk_data] Downloading package stopwords to\n",
      "[nltk_data]     /home/datascience/nltk_data...\n",
      "[nltk_data]   Package stopwords is already up-to-date!\n"
     ]
    },
    {
     "data": {
      "text/plain": [
       "True"
      ]
     },
     "execution_count": 5,
     "metadata": {},
     "output_type": "execute_result"
    }
   ],
   "source": [
    "nltk.download('stopwords')"
   ]
  },
  {
   "cell_type": "code",
   "execution_count": 6,
   "metadata": {},
   "outputs": [],
   "source": [
    "from nltk.corpus import reuters\n",
    "from nltk.corpus import stopwords"
   ]
  },
  {
   "cell_type": "markdown",
   "metadata": {},
   "source": [
    "Let's look at the dataset. We first explore the different labels that Reuters has on the newswires. Most of Reuters newswires are finance and commodity trading related."
   ]
  },
  {
   "cell_type": "code",
   "execution_count": 7,
   "metadata": {
    "scrolled": true
   },
   "outputs": [
    {
     "name": "stdout",
     "output_type": "stream",
     "text": [
      "copper, jet, dmk, housing, ipi, income, potato, cocoa, soy-oil, cpi, money-fx, groundnut-oil, instal-debt, tea, meal-feed, earn, propane, gold, interest, oilseed, money-supply, dfl, gnp, nzdlr, tin, strategic-metal, rye, palm-oil, cpu, lin-oil, dlr, nkr, palladium, soy-meal, soybean, reserves, fuel, cotton-oil, carcass, orange, oat, rand, nickel, pet-chem, alum, bop, palmkernel, nat-gas, sorghum, groundnut, iron-steel, acq, rubber, naphtha, trade, sun-oil, cotton, sun-meal, l-cattle, gas, sunseed, yen, castor-oil, lead, livestock, silver, crude, rape-oil, coffee, lei, coconut-oil, rapeseed, grain, wheat, lumber, coconut, wpi, hog, copra-cake, veg-oil, corn, sugar, platinum, rice, zinc, ship, barley, heat, retail, jobs"
     ]
    }
   ],
   "source": [
    "import sys\n",
    "labels = reuters.categories()\n",
    "sys.stdout.write(\", \".join(set(labels)))"
   ]
  },
  {
   "cell_type": "markdown",
   "metadata": {},
   "source": [
    "Let's also explore what's behind the stopwords."
   ]
  },
  {
   "cell_type": "code",
   "execution_count": 8,
   "metadata": {},
   "outputs": [
    {
     "name": "stdout",
     "output_type": "stream",
     "text": [
      "she, above, through, each, other, its, themselves, than, down, until, you've, you're, against, weren, did, those, needn, own, do, into, didn, only, been, we, o, but, couldn, during, most, is, once, shouldn't, from, her, d, the, as, further, yourselves, no, about, so, shouldn, both, all, their, or, at, with, doesn't, ourselves, where, you'd, had, some, on, weren't, i, how, now, s, before, should, isn't, were, aren, have, why, off, few, don, mustn, theirs, ours, them, can, it's, nor, under, haven, doing, won't, does, you, shan't, my, ain, won, there, itself, same, am, she's, up, hasn't, here, for, of, haven't, they, mightn't, are, mightn, and, himself, over, what, by, shan, yourself, too, any, after, because, hadn, me, out, when, such, his, m, ve, these, hadn't, couldn't, then, should've, was, wouldn, yours, isn, being, while, t, hers, will, again, a, ll, wasn't, re, myself, be, it, between, to, wouldn't, doesn, your, aren't, didn't, he, needn't, more, having, y, that'll, our, this, in, if, not, him, wasn, an, just, don't, that, which, herself, you'll, whom, who, has, below, hasn, ma, very, mustn't"
     ]
    }
   ],
   "source": [
    "stop_words = stopwords.words('english')\n",
    "sys.stdout.write(\", \".join(set(stop_words)))"
   ]
  },
  {
   "cell_type": "markdown",
   "metadata": {},
   "source": [
    "Next, we load the data from the reuters data and connect generate our training and testing dataset."
   ]
  },
  {
   "cell_type": "code",
   "execution_count": 9,
   "metadata": {},
   "outputs": [],
   "source": [
    "documents = reuters.fileids()\n",
    "test = [d for d in documents if d.startswith(\"test/\")]\n",
    "train = [d for d in documents if d.startswith(\"training/\")]"
   ]
  },
  {
   "cell_type": "code",
   "execution_count": 10,
   "metadata": {},
   "outputs": [],
   "source": [
    "docs = {}\n",
    "docs[\"train\"] = [reuters.raw(doc_id) for doc_id in train]\n",
    "docs[\"test\"] = [reuters.raw(doc_id) for doc_id in test]"
   ]
  },
  {
   "cell_type": "markdown",
   "metadata": {},
   "source": [
    "Are you curious what a sample documents looks like? Below I plot such an article."
   ]
  },
  {
   "cell_type": "code",
   "execution_count": 11,
   "metadata": {},
   "outputs": [
    {
     "name": "stdout",
     "output_type": "stream",
     "text": [
      "BAHIA COCOA REVIEW\n",
      "  Showers continued throughout the week in\n",
      "  the Bahia cocoa zone, alleviating the drought since early\n",
      "  January and improving prospects for the coming temporao,\n",
      "  although normal humidity levels have not been restored,\n",
      "  Comissaria Smith said in its weekly review.\n",
      "   \n"
     ]
    }
   ],
   "source": [
    "print(docs[\"train\"][0][:288])"
   ]
  },
  {
   "cell_type": "code",
   "execution_count": 12,
   "metadata": {},
   "outputs": [],
   "source": [
    "label_train = [reuters.categories(doc_id) for doc_id in train]\n",
    "label_test = [reuters.categories(doc_id) for doc_id in test]"
   ]
  },
  {
   "cell_type": "code",
   "execution_count": 13,
   "metadata": {},
   "outputs": [
    {
     "data": {
      "text/plain": [
       "['cocoa']"
      ]
     },
     "execution_count": 13,
     "metadata": {},
     "output_type": "execute_result"
    }
   ],
   "source": [
    "label_train[0]"
   ]
  },
  {
   "cell_type": "markdown",
   "metadata": {},
   "source": [
    "Our original sample size of training and testing documents is as follows."
   ]
  },
  {
   "cell_type": "code",
   "execution_count": 14,
   "metadata": {},
   "outputs": [
    {
     "name": "stdout",
     "output_type": "stream",
     "text": [
      "training documents 7769\n",
      "testing documents 3019\n"
     ]
    }
   ],
   "source": [
    "print('training documents', len(docs[\"train\"]))\n",
    "print('testing documents', len(docs[\"test\"]))"
   ]
  },
  {
   "cell_type": "markdown",
   "metadata": {},
   "source": [
    "## Filter single label documents"
   ]
  },
  {
   "cell_type": "markdown",
   "metadata": {},
   "source": [
    "We filter single label documents, as some of the documents are assigned multiple labels. "
   ]
  },
  {
   "cell_type": "code",
   "execution_count": 15,
   "metadata": {},
   "outputs": [
    {
     "data": {
      "text/plain": [
       "['acq', 'trade']"
      ]
     },
     "execution_count": 15,
     "metadata": {},
     "output_type": "execute_result"
    }
   ],
   "source": [
    "label_train[6]"
   ]
  },
  {
   "cell_type": "code",
   "execution_count": 16,
   "metadata": {},
   "outputs": [
    {
     "name": "stdout",
     "output_type": "stream",
     "text": [
      "U.K. GROWING IMPATIENT WITH JAPAN - THATCHER\n",
      "  Prime Minister Margaret Thatcher said\n",
      "  the U.K. Was growing more impatient with Japanese trade\n",
      "  barriers and warned that it would soon have new powers against\n",
      "  countries not offering reciprocal access to their markets.\n",
      "   \n"
     ]
    }
   ],
   "source": [
    "print(docs[\"train\"][6][:272])"
   ]
  },
  {
   "cell_type": "code",
   "execution_count": 17,
   "metadata": {},
   "outputs": [],
   "source": [
    "import pandas as pd\n",
    "sel = pd.DataFrame(label_train)\n",
    "one_topic_train = sel[1].isna()\n",
    "sel = sel[one_topic_train]\n",
    "label_train = sel[[0]]"
   ]
  },
  {
   "cell_type": "code",
   "execution_count": 18,
   "metadata": {},
   "outputs": [],
   "source": [
    "sel = pd.DataFrame(label_test)\n",
    "one_topic_test = sel[1].isna()\n",
    "sel = sel[one_topic_test]\n",
    "label_test = sel[[0]]"
   ]
  },
  {
   "cell_type": "code",
   "execution_count": 19,
   "metadata": {},
   "outputs": [],
   "source": [
    "sel = pd.DataFrame(docs[\"train\"])\n",
    "sel = sel[one_topic_train]\n",
    "docs_train = sel[[0]]"
   ]
  },
  {
   "cell_type": "code",
   "execution_count": 20,
   "metadata": {},
   "outputs": [],
   "source": [
    "sel = pd.DataFrame(docs[\"test\"])\n",
    "sel = sel[one_topic_test]\n",
    "docs_test = sel[[0]]"
   ]
  },
  {
   "cell_type": "code",
   "execution_count": 21,
   "metadata": {},
   "outputs": [
    {
     "name": "stdout",
     "output_type": "stream",
     "text": [
      "training documents 6577\n",
      "testing documents 2583\n"
     ]
    }
   ],
   "source": [
    "print('training documents', len(docs_train))\n",
    "print('testing documents', len(docs_test))"
   ]
  },
  {
   "cell_type": "markdown",
   "metadata": {},
   "source": [
    "## Pick only the top 10 most frequency labels\n",
    "\n",
    "To reduce the number of classes for our classification problem, we only pick the ten most common data points."
   ]
  },
  {
   "cell_type": "code",
   "execution_count": 22,
   "metadata": {},
   "outputs": [
    {
     "data": {
      "text/plain": [
       "['earn',\n",
       " 'acq',\n",
       " 'crude',\n",
       " 'trade',\n",
       " 'money-fx',\n",
       " 'interest',\n",
       " 'money-supply',\n",
       " 'ship',\n",
       " 'sugar',\n",
       " 'coffee']"
      ]
     },
     "execution_count": 22,
     "metadata": {},
     "output_type": "execute_result"
    }
   ],
   "source": [
    "top10_labels = label_train[0].value_counts()[:10].index.to_list()\n",
    "top10_labels"
   ]
  },
  {
   "cell_type": "code",
   "execution_count": 23,
   "metadata": {},
   "outputs": [],
   "source": [
    "top10 = label_train[0].isin(top10_labels)\n",
    "label_train = label_train[top10]\n",
    "docs_train = docs_train[top10]"
   ]
  },
  {
   "cell_type": "code",
   "execution_count": 24,
   "metadata": {},
   "outputs": [],
   "source": [
    "top10 = label_test[0].isin(top10_labels)\n",
    "label_test = label_test[top10]\n",
    "docs_test = docs_test[top10]"
   ]
  },
  {
   "cell_type": "code",
   "execution_count": 25,
   "metadata": {},
   "outputs": [
    {
     "name": "stdout",
     "output_type": "stream",
     "text": [
      "documents for training 5770\n",
      "documents for testimg 2255\n"
     ]
    }
   ],
   "source": [
    "print('documents for training', docs_train.shape[0])\n",
    "print('documents for testimg', docs_test.shape[0])"
   ]
  },
  {
   "cell_type": "markdown",
   "metadata": {},
   "source": [
    "# Preprocessing the data\n",
    "In this example, we only do a single preprocessing step, which is to replace all numbers with a specific token, the ntkn token. "
   ]
  },
  {
   "cell_type": "code",
   "execution_count": 26,
   "metadata": {},
   "outputs": [],
   "source": [
    "import re\n",
    "numbers = re.compile(r'(\\d+,\\d+)|(\\s+\\d+\\s+)'\n",
    "                         r'|(\\d+th)|(\\d+am)|(\\d+pm)|(\\d+)|'\n",
    "                         r'(\\d+pa)|(\\d+\\s+pa)')\n",
    "docs_train = [numbers.sub(\" ntkn \", line) for line in docs_train[0].to_list()]"
   ]
  },
  {
   "cell_type": "code",
   "execution_count": 27,
   "metadata": {},
   "outputs": [],
   "source": [
    "docs_test = [numbers.sub(\" ntkn \", line) for line in docs_test[0].to_list()]"
   ]
  },
  {
   "cell_type": "markdown",
   "metadata": {},
   "source": [
    "Let's see how it changes the news article."
   ]
  },
  {
   "cell_type": "code",
   "execution_count": 28,
   "metadata": {},
   "outputs": [
    {
     "name": "stdout",
     "output_type": "stream",
     "text": [
      "N.Z. TRADING BANK DEPOSIT GROWTH RISES SLIGHTLY\n",
      "  New Zealand's trading bank seasonally\n",
      "  adjusted deposit growth rose  ntkn . ntkn  pct in January compared with a\n",
      "  rise of  ntkn . ntkn  pct in December, the Reserve Bank said.\n",
      "      Year-on-year total deposits rose  ntkn . ntkn  pct compared with a\n",
      "   ntkn . ntkn  pct increase in the December year and  ntkn . ntkn  pct rise a year\n",
      "  ago period, it said in its weekly statistical release.\n",
      "      Total deposits rose to  ntkn . ntkn  billion N.Z. Dlrs in January\n",
      "  compared with  ntkn . ntkn  billion in December and  ntkn . ntkn  billion in\n",
      "  January  ntkn .\n",
      "  \n",
      "\n",
      "\n"
     ]
    }
   ],
   "source": [
    "print(docs_train[1])"
   ]
  },
  {
   "cell_type": "markdown",
   "metadata": {},
   "source": [
    "# Classification"
   ]
  },
  {
   "cell_type": "markdown",
   "metadata": {},
   "source": [
    "We will showcase only the Logistic Regression model for classifications of multiple classes. We use two different ways to convert text to numbers. First, we use the count vectorisers, second, we use the TF-IDFs.\n",
    "\n",
    "We start with the use of the count vectoriser."
   ]
  },
  {
   "cell_type": "code",
   "execution_count": 29,
   "metadata": {},
   "outputs": [],
   "source": [
    "from sklearn.feature_extraction.text import CountVectorizer \n",
    "cv = CountVectorizer(binary=False, stop_words = stop_words, \n",
    "                     ngram_range=(1, 2), max_features = 5000)\n",
    "x_train = cv.fit_transform(docs_train)"
   ]
  },
  {
   "cell_type": "markdown",
   "metadata": {},
   "source": [
    "Let's explore the least and most common words in sample."
   ]
  },
  {
   "cell_type": "code",
   "execution_count": 30,
   "metadata": {},
   "outputs": [
    {
     "data": {
      "text/plain": [
       "[('allocations', 15),\n",
       " ('also called', 15),\n",
       " ('also excludes', 15),\n",
       " ('asking', 15),\n",
       " ('bank first', 15),\n",
       " ('bank lending', 15),\n",
       " ('bond corp', 15),\n",
       " ('broken', 15),\n",
       " ('builders', 15),\n",
       " ('buyback', 15)]"
      ]
     },
     "execution_count": 30,
     "metadata": {},
     "output_type": "execute_result"
    }
   ],
   "source": [
    "word_list = cv.get_feature_names();    \n",
    "count_list = x_train.toarray().sum(axis=0)    \n",
    "d = {k: v for k, v in sorted(dict(zip(word_list,count_list)).items(), key=lambda item: item[1])}\n",
    "take(10, d.items())"
   ]
  },
  {
   "cell_type": "code",
   "execution_count": 31,
   "metadata": {},
   "outputs": [
    {
     "data": {
      "text/plain": [
       "[('ntkn', 65339),\n",
       " ('ntkn ntkn', 22248),\n",
       " ('said', 11840),\n",
       " ('mln', 10417),\n",
       " ('ntkn mln', 10016),\n",
       " ('vs', 9206),\n",
       " ('dlrs', 7136),\n",
       " ('vs ntkn', 6562),\n",
       " ('lt', 5858),\n",
       " ('cts', 5672)]"
      ]
     },
     "execution_count": 31,
     "metadata": {},
     "output_type": "execute_result"
    }
   ],
   "source": [
    "d = {k: v for k, v in sorted(dict(zip(word_list,count_list)).items(), key=lambda item: item[1], reverse=True)}\n",
    "take(10, d.items())"
   ]
  },
  {
   "cell_type": "code",
   "execution_count": 32,
   "metadata": {},
   "outputs": [],
   "source": [
    "x_test = cv.fit_transform(docs_test)"
   ]
  },
  {
   "cell_type": "markdown",
   "metadata": {},
   "source": [
    "We proceed to classify text using logistic regression."
   ]
  },
  {
   "cell_type": "code",
   "execution_count": 33,
   "metadata": {},
   "outputs": [],
   "source": [
    "from sklearn.multiclass import OneVsRestClassifier\n",
    "from sklearn.linear_model import LogisticRegression\n",
    "from sklearn.svm import LinearSVC\n",
    "\n",
    "m = OneVsRestClassifier(LogisticRegression(solver = 'lbfgs', max_iter=500))\n",
    "#m = OneVsRestClassifier(LinearSVC(max_iter=5000))\n",
    "m.fit(x_train, label_train[0].to_list())\n",
    "pred = m.predict(x_test)"
   ]
  },
  {
   "cell_type": "markdown",
   "metadata": {},
   "source": [
    "The performance of the model is disappointing. The recall and precision is very low, as is the F1 score."
   ]
  },
  {
   "cell_type": "code",
   "execution_count": 34,
   "metadata": {},
   "outputs": [
    {
     "name": "stdout",
     "output_type": "stream",
     "text": [
      "f1 0.26\n",
      "recall 0.25\n",
      "precision 0.41\n"
     ]
    },
    {
     "name": "stderr",
     "output_type": "stream",
     "text": [
      "/opt/conda/lib/python3.6/site-packages/sklearn/metrics/classification.py:1437: UndefinedMetricWarning: F-score is ill-defined and being set to 0.0 in labels with no predicted samples.\n",
      "  'precision', 'predicted', average, warn_for)\n",
      "/opt/conda/lib/python3.6/site-packages/sklearn/metrics/classification.py:1437: UndefinedMetricWarning: Precision is ill-defined and being set to 0.0 in labels with no predicted samples.\n",
      "  'precision', 'predicted', average, warn_for)\n"
     ]
    }
   ],
   "source": [
    "from sklearn.metrics import accuracy_score, fbeta_score, precision_score, recall_score\n",
    "f1 = fbeta_score(y_true=label_test, y_pred=pred, beta=1, average=\"weighted\")\n",
    "recall = recall_score(y_true=label_test, y_pred=pred, average=\"weighted\")\n",
    "precision = precision_score(y_true=label_test, y_pred=pred, average=\"weighted\")\n",
    "print('f1', round(f1,2))\n",
    "print('recall', round(recall,2))\n",
    "print('precision', round(precision,2))"
   ]
  },
  {
   "cell_type": "markdown",
   "metadata": {},
   "source": [
    "The plot of the confusion matrix confirms that the algorithm fail to learn the patterns necessary for an accurate classification."
   ]
  },
  {
   "cell_type": "code",
   "execution_count": 35,
   "metadata": {},
   "outputs": [
    {
     "name": "stdout",
     "output_type": "stream",
     "text": [
      "Confusion matrix, without normalization\n"
     ]
    },
    {
     "data": {
      "image/png": "[encoded data removed]",
      "text/plain": [
       "<Figure size 576x432 with 2 Axes>"
      ]
     },
     "metadata": {
      "needs_background": "light"
     },
     "output_type": "display_data"
    }
   ],
   "source": [
    "from sklearn.metrics import confusion_matrix\n",
    "import numpy as np\n",
    "classes = list(set(label_train.iloc[:,0].to_list()))\n",
    "cnf_matrix = confusion_matrix(label_test, pred)\n",
    "np.set_printoptions(precision=2)\n",
    "# Plot non-normalized confusion matrix\n",
    "plt.figure(figsize=(8, 6))\n",
    "plot_confusion_matrix(cnf_matrix, classes = classes, #normalize=True,\n",
    "                      title='Confusion matrix, without normalization')"
   ]
  },
  {
   "cell_type": "markdown",
   "metadata": {},
   "source": [
    "We next implement the Tfidf vectoriser. "
   ]
  },
  {
   "cell_type": "code",
   "execution_count": 36,
   "metadata": {},
   "outputs": [],
   "source": [
    "from sklearn.feature_extraction.text import TfidfVectorizer"
   ]
  },
  {
   "cell_type": "code",
   "execution_count": 43,
   "metadata": {},
   "outputs": [],
   "source": [
    "vectorizer = TfidfVectorizer()\n",
    "x_train = vectorizer.fit_transform(docs_train).toarray()\n",
    "x_test = vectorizer.transform(docs_test).toarray()"
   ]
  },
  {
   "cell_type": "code",
   "execution_count": 44,
   "metadata": {},
   "outputs": [],
   "source": [
    "#m = OneVsRestClassifier(LinearSVC())\n",
    "m = OneVsRestClassifier(LogisticRegression(solver = 'lbfgs'))\n",
    "m.fit(x_train, label_train)\n",
    "pred = m.predict(x_test)"
   ]
  },
  {
   "cell_type": "code",
   "execution_count": 45,
   "metadata": {},
   "outputs": [
    {
     "name": "stdout",
     "output_type": "stream",
     "text": [
      "f1 0.93\n",
      "recall 0.93\n",
      "precision 0.93\n"
     ]
    }
   ],
   "source": [
    "f1 = fbeta_score(y_true=label_test, y_pred=pred, beta=1, average=\"weighted\")\n",
    "recall = recall_score(y_true=label_test, y_pred=pred, average=\"weighted\")\n",
    "precision = precision_score(y_true=label_test, y_pred=pred, average=\"weighted\")\n",
    "print('f1', round(f1,2))\n",
    "print('recall', round(recall,2))\n",
    "print('precision', round(precision,2))"
   ]
  },
  {
   "cell_type": "code",
   "execution_count": 46,
   "metadata": {},
   "outputs": [
    {
     "name": "stdout",
     "output_type": "stream",
     "text": [
      "Normalized confusion matrix\n"
     ]
    },
    {
     "data": {
      "image/png": "[encoded data removed]",
      "text/plain": [
       "<Figure size 576x432 with 2 Axes>"
      ]
     },
     "metadata": {
      "needs_background": "light"
     },
     "output_type": "display_data"
    }
   ],
   "source": [
    "cnf_matrix = confusion_matrix(label_test, pred)\n",
    "np.set_printoptions(precision=2)\n",
    "\n",
    "plt.figure(figsize=(8, 6))\n",
    "plot_confusion_matrix(cnf_matrix, classes = classes, normalize=True, \n",
    "                      title='Confusion matrix, without normalization')"
   ]
  },
  {
   "cell_type": "markdown",
   "metadata": {},
   "source": [
    "In this case, the Tf-idf vectoriser is a game changer. We get very high accuracies."
   ]
  },
  {
   "cell_type": "code",
   "execution_count": null,
   "metadata": {},
   "outputs": [],
   "source": []
  }
 ],
 "metadata": {
  "kernelspec": {
   "display_name": "Python 3",
   "language": "python",
   "name": "python3"
  },
  "language_info": {
   "codemirror_mode": {
    "name": "ipython",
    "version": 3
   },
   "file_extension": ".py",
   "mimetype": "text/x-python",
   "name": "python",
   "nbconvert_exporter": "python",
   "pygments_lexer": "ipython3",
   "version": "3.6.10"
  }
 },
 "nbformat": 4,
 "nbformat_minor": 4
}
