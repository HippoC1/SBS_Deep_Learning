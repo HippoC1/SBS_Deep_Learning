{
 "cells": [
  {
   "cell_type": "markdown",
   "metadata": {},
   "source": [
    "# assignment 3 "
   ]
  },
  {
   "cell_type": "markdown",
   "metadata": {},
   "source": [
    "In this assignmeent you predict the salary band of job vacancies from the vacancy text. We use the full salary text from Burning Glass data and the salary data provided by Burning Glass. Can you build a super-human salary prediction engine?"
   ]
  },
  {
   "cell_type": "markdown",
   "metadata": {},
   "source": [
    "You can load the dataset with the command below, once you have downloaded it from Object Storage."
   ]
  },
  {
   "cell_type": "code",
   "execution_count": 3,
   "metadata": {},
   "outputs": [
    {
     "data": {
      "text/html": [
       "<div>\n",
       "<style scoped>\n",
       "    .dataframe tbody tr th:only-of-type {\n",
       "        vertical-align: middle;\n",
       "    }\n",
       "\n",
       "    .dataframe tbody tr th {\n",
       "        vertical-align: top;\n",
       "    }\n",
       "\n",
       "    .dataframe thead th {\n",
       "        text-align: right;\n",
       "    }\n",
       "</style>\n",
       "<table border=\"1\" class=\"dataframe\">\n",
       "  <thead>\n",
       "    <tr style=\"text-align: right;\">\n",
       "      <th></th>\n",
       "      <th>JobText</th>\n",
       "      <th>MinAnnualSalary</th>\n",
       "    </tr>\n",
       "  </thead>\n",
       "  <tbody>\n",
       "    <tr>\n",
       "      <td>0</td>\n",
       "      <td>Staff Nurse - A&amp;E - PRUH\\n\\nBand  --ntkn-- \\n\\...</td>\n",
       "      <td>26682.0</td>\n",
       "    </tr>\n",
       "    <tr>\n",
       "      <td>1</td>\n",
       "      <td>Clinical Lead Nurse \\n          Black Fox Solu...</td>\n",
       "      <td>40000.0</td>\n",
       "    </tr>\n",
       "    <tr>\n",
       "      <td>2</td>\n",
       "      <td>Team Leader - Anaesthetics Practitioner\\n\\nBan...</td>\n",
       "      <td>33660.0</td>\n",
       "    </tr>\n",
       "    <tr>\n",
       "      <td>3</td>\n",
       "      <td>Nurse \\n          Staff Nursing \\n          \\n...</td>\n",
       "      <td>48360.0</td>\n",
       "    </tr>\n",
       "    <tr>\n",
       "      <td>4</td>\n",
       "      <td>Consultant in Infection with an interest in Cr...</td>\n",
       "      <td>80075.0</td>\n",
       "    </tr>\n",
       "  </tbody>\n",
       "</table>\n",
       "</div>"
      ],
      "text/plain": [
       "                                             JobText  MinAnnualSalary\n",
       "0  Staff Nurse - A&E - PRUH\\n\\nBand  --ntkn-- \\n\\...          26682.0\n",
       "1  Clinical Lead Nurse \\n          Black Fox Solu...          40000.0\n",
       "2  Team Leader - Anaesthetics Practitioner\\n\\nBan...          33660.0\n",
       "3  Nurse \\n          Staff Nursing \\n          \\n...          48360.0\n",
       "4  Consultant in Infection with an interest in Cr...          80075.0"
      ]
     },
     "execution_count": 3,
     "metadata": {},
     "output_type": "execute_result"
    }
   ],
   "source": [
    "import pandas as pd\n",
    "pd.read_csv('Nurses_2019_04_hidden_numbers.csv', index_col=0).head()"
   ]
  },
  {
   "cell_type": "markdown",
   "metadata": {},
   "source": [
    "I have hidden the numbers with the token '--ntkn--'. The tokenisation of numbers ensures that you only use the vacancy text to predict the salaries."
   ]
  },
  {
   "cell_type": "code",
   "execution_count": 4,
   "metadata": {},
   "outputs": [
    {
     "data": {
      "text/plain": [
       "\"Staff Nurse - A&E - PRUH\\n\\nBand  --ntkn-- \\n\\nMain area\\n    ED PRUH Nursing\\nGrade\\n    Band  --ntkn-- \\nContract\\n    Permanent\\nHours\\n    Full Time  --ntkn-- . --ntkn--  hours per week\\nJob ref\\n     --ntkn-- -PRUH- --ntkn-- -D\\n\\nEmployer\\n    King's College Hospital NHS Foundation Trust\\nEmployer type\\n    NHS\\nSite\\n    Orpington\\nTown\\n    Farnborough\\nSalary\\n    £ --ntkn-- , --ntkn--  - £ --ntkn-- , --ntkn--  per annum Inc HCA\\nClosing\\n     --ntkn-- / --ntkn-- / --ntkn--   --ntkn-- : --ntkn-- \\n\\nAre you interested in a career in Emergency Nursing? The Princess Royal University Hospital is part of the renowned Kings College University NHS Trust. Whilst the department is a vital part of Kings College Hospital we are in the enviable position of sitting just outside the M --ntkn--   making access easy with the advantages of outer London weighting (which attracts a maximum £ --ntkn--  per annum). The Emergency Department (ED) currently sees approximately  --ntkn-- , --ntkn--  per year serving the population of Bromley and Orpington which incorporates the largest geographical area in London. The majority of this is rural and green belt which makes it a beautiful part of the country to work with the added benefits of being on the doorstep of the Capital.\\n\\nWe are looking to increase our existing caring and compassionate team with nurses who are keen and enthusiastic, with a desire to pursue a career in ED. If you have qualities that embrace the  --ntkn--  Cs and  --ntkn--  commitments we can offer you a challenging working environment which will develop you skills and abilities required in Emergency Nursing. We are also a Trauma Unit and  Hyper Acute Stroke Unit which will require specific knowledge and skills in order to look after these patients. To help you do this you will supported by a large multidisciplinary team which includes a Head of Nursing,  --ntkn--  Matrons and a practice development team. We excited to be participating in the Capital Nurse programme which is developing a career pathway and the education support which underpins it.\\n\\nIf you are a band  --ntkn--  staff nurse looking for a new career then look no further. We would be delighted to talk to you about joining the organisation which is like a supportive family.\\n\\nIf you are unsure whether a career in ED is what you are looking for then we also offer a rotational programme across the acute floor which includes the Acute Medical Unit, Ambulatory Care and ED. This will give you broad experience in a variety of Acute Medical areas so you can decide where to specialise at a later date.\""
      ]
     },
     "execution_count": 4,
     "metadata": {},
     "output_type": "execute_result"
    }
   ],
   "source": [
    "pd.read_csv('Nurses_2019_04_hidden_numbers.csv', index_col=0).head().iloc[0].JobText"
   ]
  },
  {
   "cell_type": "markdown",
   "metadata": {},
   "source": [
    "Your task is to place each job ad within the following quantiles:\n",
    "\n",
    "* £4214 to £26000 -- class 1 lowest 20 percent of salaries\n",
    "* £26001 to £30401 -- class 2 lowest 20 to 40 percent of salaries\n",
    "* £30402 to £34361 -- class 3 lowest 40 to 60 percent of salaries\n",
    "* £34362 to £40000 -- class 4 lowest 60 to 80 percent of salaries\n",
    "* £40001 to £141440 -- class 5 - highest 20 percent of salaries"
   ]
  },
  {
   "cell_type": "markdown",
   "metadata": {},
   "source": [
    "Your goal is to accurately predict the salary band from the full text of a job vacnacy. "
   ]
  },
  {
   "cell_type": "markdown",
   "metadata": {},
   "source": [
    "Each team can submit up to three models into the competition. The models are then evaluated based a holdout week that I will provide the teams before their presentations. As in the previous week, please send your models to me by mail to receive your test dataset."
   ]
  },
  {
   "cell_type": "markdown",
   "metadata": {},
   "source": [
    "Each team will present their models next Tuesday within the last 45 minutes of the class. Each team gets up to 8 minutes. Please have your code and models ready for deployment on the evaluation dataset, which has the same structure as the training data. This week, we will use the mean absolute error to evaluate the loss."
   ]
  },
  {
   "cell_type": "markdown",
   "metadata": {},
   "source": [
    "# Good Luck!"
   ]
  }
 ],
 "metadata": {
  "kernelspec": {
   "display_name": "Python 3",
   "language": "python",
   "name": "python3"
  },
  "language_info": {
   "codemirror_mode": {
    "name": "ipython",
    "version": 3
   },
   "file_extension": ".py",
   "mimetype": "text/x-python",
   "name": "python",
   "nbconvert_exporter": "python",
   "pygments_lexer": "ipython3",
   "version": "3.7.5"
  }
 },
 "nbformat": 4,
 "nbformat_minor": 2
}
