{
 "cells": [
  {
   "cell_type": "code",
   "execution_count": 1,
   "metadata": {},
   "outputs": [],
   "source": [
    "import matplotlib.pyplot as plt\n",
    "def plot_confusion_matrix(cm, classes,\n",
    "                          normalize=False,\n",
    "                          title='Confusion matrix',\n",
    "                          cmap=plt.cm.Blues):\n",
    "    \"\"\"\n",
    "    This function prints and plots the confusion matrix.\n",
    "    Normalization can be applied by setting `normalize=True`.\n",
    "    \"\"\"\n",
    "    import itertools\n",
    "    if normalize:\n",
    "        cm = cm.astype('float') / cm.sum(axis=1)[:, np.newaxis]\n",
    "        print(\"Normalized confusion matrix\")\n",
    "    else:\n",
    "        print('Confusion matrix, without normalization')\n",
    "\n",
    "    plt.imshow(cm, interpolation='nearest', cmap=cmap)\n",
    "    plt.title(title)\n",
    "    plt.colorbar()\n",
    "    tick_marks = np.arange(len(classes))\n",
    "    plt.xticks(tick_marks, classes, rotation=45)\n",
    "    plt.yticks(tick_marks, classes)\n",
    "\n",
    "    fmt = '.2f' if normalize else 'd'\n",
    "    thresh = cm.max() / 2.\n",
    "    for i, j in itertools.product(range(cm.shape[0]), range(cm.shape[1])):\n",
    "        plt.text(j, i, format(cm[i, j], fmt),\n",
    "                 horizontalalignment=\"center\",\n",
    "                 color=\"white\" if cm[i, j] > thresh else \"black\")\n",
    "\n",
    "    plt.ylabel('True label')\n",
    "    plt.xlabel('Predicted label')\n",
    "    plt.tight_layout()"
   ]
  },
  {
   "cell_type": "markdown",
   "metadata": {},
   "source": [
    "# Load the dataset"
   ]
  },
  {
   "cell_type": "code",
   "execution_count": 2,
   "metadata": {},
   "outputs": [],
   "source": [
    "import nltk"
   ]
  },
  {
   "cell_type": "code",
   "execution_count": 3,
   "metadata": {},
   "outputs": [],
   "source": [
    "from nltk.corpus import reuters\n",
    "from nltk.corpus import stopwords"
   ]
  },
  {
   "cell_type": "code",
   "execution_count": 4,
   "metadata": {},
   "outputs": [],
   "source": [
    "labels = reuters.categories()\n",
    "stop_words = stopwords.words('english')"
   ]
  },
  {
   "cell_type": "code",
   "execution_count": 5,
   "metadata": {},
   "outputs": [],
   "source": [
    "documents = reuters.fileids()\n",
    "test = [d for d in documents if d.startswith(\"test/\")]\n",
    "train = [d for d in documents if d.startswith(\"training/\")]"
   ]
  },
  {
   "cell_type": "code",
   "execution_count": 6,
   "metadata": {},
   "outputs": [],
   "source": [
    "docs = {}\n",
    "docs[\"train\"] = [reuters.raw(doc_id) for doc_id in train]\n",
    "docs[\"test\"] = [reuters.raw(doc_id) for doc_id in test]"
   ]
  },
  {
   "cell_type": "code",
   "execution_count": 7,
   "metadata": {},
   "outputs": [],
   "source": [
    "label_train = [reuters.categories(doc_id) for doc_id in train]\n",
    "label_test = [reuters.categories(doc_id) for doc_id in test]"
   ]
  },
  {
   "cell_type": "markdown",
   "metadata": {},
   "source": [
    "## Pick only single label documents."
   ]
  },
  {
   "cell_type": "code",
   "execution_count": 8,
   "metadata": {},
   "outputs": [],
   "source": [
    "import pandas as pd\n",
    "sel = pd.DataFrame(label_train)\n",
    "one_topic_train = sel[1].isna()\n",
    "sel = sel[one_topic_train]\n",
    "label_train = sel[[0]]"
   ]
  },
  {
   "cell_type": "code",
   "execution_count": 9,
   "metadata": {},
   "outputs": [],
   "source": [
    "sel = pd.DataFrame(label_test)\n",
    "one_topic_test = sel[1].isna()\n",
    "sel = sel[one_topic_test]\n",
    "label_test = sel[[0]]"
   ]
  },
  {
   "cell_type": "code",
   "execution_count": 10,
   "metadata": {},
   "outputs": [],
   "source": [
    "sel = pd.DataFrame(docs[\"train\"])\n",
    "sel = sel[one_topic_train]\n",
    "docs_train = sel[[0]]"
   ]
  },
  {
   "cell_type": "code",
   "execution_count": 11,
   "metadata": {},
   "outputs": [],
   "source": [
    "sel = pd.DataFrame(docs[\"test\"])\n",
    "sel = sel[one_topic_test]\n",
    "docs_test = sel[[0]]"
   ]
  },
  {
   "cell_type": "markdown",
   "metadata": {},
   "source": [
    "## Pick only the top 10 most frequency labels."
   ]
  },
  {
   "cell_type": "code",
   "execution_count": 12,
   "metadata": {},
   "outputs": [],
   "source": [
    "top10_labels = label_train[0].value_counts()[:3].index.to_list()"
   ]
  },
  {
   "cell_type": "code",
   "execution_count": 13,
   "metadata": {},
   "outputs": [],
   "source": [
    "top10 = label_train[0].isin(top10_labels)\n",
    "label_train = label_train[top10]\n",
    "docs_train = docs_train[top10]"
   ]
  },
  {
   "cell_type": "code",
   "execution_count": 14,
   "metadata": {},
   "outputs": [],
   "source": [
    "top10 = label_test[0].isin(top10_labels)\n",
    "label_test = label_test[top10]\n",
    "docs_test = docs_test[top10]"
   ]
  },
  {
   "cell_type": "code",
   "execution_count": 15,
   "metadata": {},
   "outputs": [
    {
     "name": "stdout",
     "output_type": "stream",
     "text": [
      "documents for training 4689\n",
      "documents for testimg 1900\n"
     ]
    }
   ],
   "source": [
    "print('documents for training', docs_train.shape[0])\n",
    "print('documents for testimg', docs_test.shape[0])"
   ]
  },
  {
   "cell_type": "markdown",
   "metadata": {},
   "source": [
    "# Preprocessing the data"
   ]
  },
  {
   "cell_type": "code",
   "execution_count": 16,
   "metadata": {},
   "outputs": [],
   "source": [
    "import re\n",
    "numbers = re.compile(r'(\\d+,\\d+)|(\\s+\\d+\\s+)'\n",
    "                         r'|(\\d+th)|(\\d+am)|(\\d+pm)|(\\d+)|'\n",
    "                         r'(\\d+pa)|(\\d+\\s+pa)')\n",
    "docs_train = [numbers.sub(\" ntkn \", line) for line in docs_train[0].to_list()]\n",
    "docs_test = [numbers.sub(\" ntkn \", line) for line in docs_test[0].to_list()]"
   ]
  },
  {
   "cell_type": "markdown",
   "metadata": {},
   "source": [
    "# Benchmark model"
   ]
  },
  {
   "cell_type": "code",
   "execution_count": 17,
   "metadata": {},
   "outputs": [],
   "source": [
    "from sklearn.feature_extraction.text import TfidfVectorizer\n",
    "from sklearn.multiclass import OneVsRestClassifier\n",
    "from sklearn.linear_model import LogisticRegression\n",
    "from sklearn.svm import LinearSVC\n",
    "from sklearn.metrics import accuracy_score, fbeta_score, precision_score, recall_score\n",
    "\n",
    "vectorizer = TfidfVectorizer()\n",
    "x_train = vectorizer.fit_transform(docs_train).toarray()\n",
    "x_test = vectorizer.transform(docs_test).toarray()"
   ]
  },
  {
   "cell_type": "code",
   "execution_count": 21,
   "metadata": {},
   "outputs": [
    {
     "name": "stdout",
     "output_type": "stream",
     "text": [
      "f1 0.97\n",
      "recall 0.97\n",
      "precision 0.97\n",
      "Normalized confusion matrix\n"
     ]
    },
    {
     "data": {
      "image/png": "[encoded data removed]",
      "text/plain": [
       "<Figure size 576x432 with 2 Axes>"
      ]
     },
     "metadata": {
      "needs_background": "light"
     },
     "output_type": "display_data"
    }
   ],
   "source": [
    "from sklearn.metrics import confusion_matrix\n",
    "import numpy as np\n",
    "#m = OneVsRestClassifier(LinearSVC())\n",
    "m = OneVsRestClassifier(LogisticRegression(solver = 'lbfgs'))\n",
    "m.fit(x_train, label_train)\n",
    "pred = m.predict(x_test)\n",
    "\n",
    "f1 = fbeta_score(y_true=label_test, y_pred=pred, beta=1, average=\"weighted\")\n",
    "recall = recall_score(y_true=label_test, y_pred=pred, average=\"weighted\")\n",
    "precision = precision_score(y_true=label_test, y_pred=pred, average=\"weighted\")\n",
    "print('f1', round(f1,2))\n",
    "print('recall', round(recall,2))\n",
    "print('precision', round(precision,2))\n",
    "\n",
    "classes = list(set(label_train.iloc[:,0].to_list()))\n",
    "cnf_matrix = confusion_matrix(label_test, pred)\n",
    "np.set_printoptions(precision=2)\n",
    "\n",
    "plt.figure(figsize=(8, 6))\n",
    "plot_confusion_matrix(cnf_matrix, classes = classes, normalize=True, \n",
    "                      title='Confusion matrix, with normalization')"
   ]
  },
  {
   "cell_type": "markdown",
   "metadata": {},
   "source": [
    "# Using feed-forward neural network for classification"
   ]
  },
  {
   "cell_type": "code",
   "execution_count": 22,
   "metadata": {},
   "outputs": [],
   "source": [
    "from sklearn.preprocessing import LabelBinarizer\n",
    "lb = LabelBinarizer()\n",
    "label_train_one_hot = lb.fit_transform(label_train[0].to_list())\n",
    "label_test_one_hot = lb.transform(label_test[0].to_list())"
   ]
  },
  {
   "cell_type": "code",
   "execution_count": 23,
   "metadata": {},
   "outputs": [
    {
     "name": "stderr",
     "output_type": "stream",
     "text": [
      "Using TensorFlow backend.\n"
     ]
    },
    {
     "name": "stdout",
     "output_type": "stream",
     "text": [
      "Train on 4689 samples, validate on 1900 samples\n",
      "Epoch 1/3\n",
      "4689/4689 [==============================] - 4s 847us/step - loss: 0.6297 - accuracy: 0.8729 - val_loss: 0.2554 - val_accuracy: 0.9237\n",
      "Epoch 2/3\n",
      "4689/4689 [==============================] - 3s 549us/step - loss: 0.1630 - accuracy: 0.9544 - val_loss: 0.1194 - val_accuracy: 0.9674\n",
      "Epoch 3/3\n",
      "4689/4689 [==============================] - 3s 635us/step - loss: 0.0655 - accuracy: 0.9878 - val_loss: 0.0682 - val_accuracy: 0.9811\n"
     ]
    }
   ],
   "source": [
    "from keras import models\n",
    "from keras import layers\n",
    "\n",
    "model = models.Sequential()\n",
    "model.add(layers.Dense(64, activation='relu', input_shape=(17192,)))\n",
    "model.add(layers.Dense(64, activation='relu'))\n",
    "model.add(layers.Dense(3, activation='softmax'))\n",
    "\n",
    "model.compile(optimizer = 'rmsprop',\n",
    "             loss='categorical_crossentropy',\n",
    "             metrics=['accuracy'])\n",
    "\n",
    "history = model.fit(x_train, label_train_one_hot, epochs=3, batch_size=128, validation_data = (x_test, label_test_one_hot))"
   ]
  },
  {
   "cell_type": "code",
   "execution_count": 24,
   "metadata": {},
   "outputs": [
    {
     "data": {
      "image/png": "[encoded data removed]",
      "text/plain": [
       "<Figure size 432x288 with 1 Axes>"
      ]
     },
     "metadata": {
      "needs_background": "light"
     },
     "output_type": "display_data"
    }
   ],
   "source": [
    "import matplotlib.pyplot as plt\n",
    "\n",
    "loss = history.history['loss']\n",
    "val_loss = history.history['val_loss']\n",
    "\n",
    "epochs = range(1, len(loss) + 1)\n",
    "\n",
    "plt.plot(epochs, loss, 'bo', label='Training loss')\n",
    "plt.plot(epochs, val_loss, 'b', label='Validation loss')\n",
    "plt.title('Training and validation loss')\n",
    "plt.xlabel('Epochs')\n",
    "plt.ylabel('Loss')\n",
    "plt.legend()\n",
    "\n",
    "plt.show()"
   ]
  },
  {
   "cell_type": "code",
   "execution_count": 25,
   "metadata": {},
   "outputs": [
    {
     "data": {
      "image/png": "[encoded data removed]",
      "text/plain": [
       "<Figure size 432x288 with 1 Axes>"
      ]
     },
     "metadata": {
      "needs_background": "light"
     },
     "output_type": "display_data"
    }
   ],
   "source": [
    "plt.clf()   # clear figure\n",
    "\n",
    "acc = history.history['accuracy']\n",
    "val_acc = history.history['val_accuracy']\n",
    "\n",
    "plt.plot(epochs, acc, 'bo', label='Training acc')\n",
    "plt.plot(epochs, val_acc, 'b', label='Validation acc')\n",
    "plt.title('Training and validation accuracy')\n",
    "plt.xlabel('Epochs')\n",
    "plt.ylabel('Loss')\n",
    "plt.legend()\n",
    "\n",
    "plt.show()"
   ]
  },
  {
   "cell_type": "code",
   "execution_count": 26,
   "metadata": {},
   "outputs": [
    {
     "name": "stdout",
     "output_type": "stream",
     "text": [
      "f1 0.98\n",
      "recall 0.98\n",
      "precision 0.98\n",
      "Normalized confusion matrix\n"
     ]
    },
    {
     "data": {
      "image/png": "[encoded data removed]",
      "text/plain": [
       "<Figure size 576x432 with 2 Axes>"
      ]
     },
     "metadata": {
      "needs_background": "light"
     },
     "output_type": "display_data"
    }
   ],
   "source": [
    "pred = model.predict(x_test)\n",
    "pred = lb.inverse_transform(pred)\n",
    "\n",
    "f1 = fbeta_score(y_true=label_test, y_pred=pred, beta=1, average=\"weighted\")\n",
    "recall = recall_score(y_true=label_test, y_pred=pred, average=\"weighted\")\n",
    "precision = precision_score(y_true=label_test, y_pred=pred, average=\"weighted\")\n",
    "print('f1', round(f1,2))\n",
    "print('recall', round(recall,2))\n",
    "print('precision', round(precision,2))\n",
    "\n",
    "cnf_matrix = confusion_matrix(pred, label_test)\n",
    "np.set_printoptions(precision=2)\n",
    "\n",
    "# Plot non-normalized confusion matrix\n",
    "plt.figure(figsize=(8, 6))\n",
    "plot_confusion_matrix(cnf_matrix, classes = classes, normalize=True, \n",
    "                      title='Confusion matrix, with normalization')"
   ]
  },
  {
   "cell_type": "markdown",
   "metadata": {},
   "source": [
    "# Using neural networks with word embeddings for classification task"
   ]
  },
  {
   "cell_type": "code",
   "execution_count": 27,
   "metadata": {},
   "outputs": [
    {
     "name": "stdout",
     "output_type": "stream",
     "text": [
      "Found 18113 unique tokens.\n",
      "Shape of data tensor: (4689, 2000)\n",
      "Shape of label tensor: (4689,)\n",
      "Found 10608 unique tokens.\n",
      "Shape of data tensor: (1900, 2000)\n",
      "Shape of label tensor: (1900,)\n"
     ]
    }
   ],
   "source": [
    "from keras.preprocessing.text import Tokenizer\n",
    "from keras.preprocessing.sequence import pad_sequences\n",
    "import numpy as np\n",
    "\n",
    "maxlen = 2000  \n",
    "max_words = 10000  \n",
    "input_dim = 8\n",
    "\n",
    "tokenizer = Tokenizer(num_words=max_words)\n",
    "tokenizer.fit_on_texts(docs_train)\n",
    "sequences = tokenizer.texts_to_sequences(docs_train)\n",
    "\n",
    "word_index = tokenizer.word_index\n",
    "print('Found %s unique tokens.' % len(word_index))\n",
    "\n",
    "data = pad_sequences(sequences, maxlen=maxlen)\n",
    "\n",
    "labels = np.asarray(label_train[0].to_list())\n",
    "print('Shape of data tensor:', data.shape)\n",
    "print('Shape of label tensor:', labels.shape)\n",
    "\n",
    "x_train = data\n",
    "y_train = labels\n",
    "\n",
    "tokenizer = Tokenizer(num_words=max_words)\n",
    "tokenizer.fit_on_texts(docs_test)\n",
    "sequences = tokenizer.texts_to_sequences(docs_test)\n",
    "\n",
    "word_index = tokenizer.word_index\n",
    "print('Found %s unique tokens.' % len(word_index))\n",
    "\n",
    "data = pad_sequences(sequences, maxlen=maxlen)\n",
    "\n",
    "labels = np.asarray(label_test[0].to_list())\n",
    "print('Shape of data tensor:', data.shape)\n",
    "print('Shape of label tensor:', labels.shape)\n",
    "\n",
    "x_val = data\n",
    "y_val = labels"
   ]
  },
  {
   "cell_type": "code",
   "execution_count": 29,
   "metadata": {},
   "outputs": [],
   "source": [
    "lb = LabelBinarizer()\n",
    "label_train_one_hot = lb.fit_transform(y_train)\n",
    "label_test_one_hot = lb.transform(y_val)"
   ]
  },
  {
   "cell_type": "code",
   "execution_count": 30,
   "metadata": {},
   "outputs": [
    {
     "name": "stderr",
     "output_type": "stream",
     "text": [
      "/opt/conda/lib/python3.6/site-packages/sklearn/linear_model/logistic.py:947: ConvergenceWarning: lbfgs failed to converge. Increase the number of iterations.\n",
      "  \"of iterations.\", ConvergenceWarning)\n",
      "/opt/conda/lib/python3.6/site-packages/sklearn/linear_model/logistic.py:947: ConvergenceWarning: lbfgs failed to converge. Increase the number of iterations.\n",
      "  \"of iterations.\", ConvergenceWarning)\n"
     ]
    },
    {
     "name": "stdout",
     "output_type": "stream",
     "text": [
      "f1 0.45\n",
      "recall 0.46\n",
      "precision 0.53\n"
     ]
    },
    {
     "name": "stderr",
     "output_type": "stream",
     "text": [
      "/opt/conda/lib/python3.6/site-packages/sklearn/linear_model/logistic.py:947: ConvergenceWarning: lbfgs failed to converge. Increase the number of iterations.\n",
      "  \"of iterations.\", ConvergenceWarning)\n"
     ]
    }
   ],
   "source": [
    "m = OneVsRestClassifier(LogisticRegression(solver = 'lbfgs', max_iter = 100))\n",
    "m.fit(x_train, label_train)\n",
    "pred = m.predict(x_val)\n",
    "\n",
    "f1 = fbeta_score(y_true=label_test, y_pred=pred, beta=1, average=\"weighted\")\n",
    "recall = recall_score(y_true=label_test, y_pred=pred, average=\"weighted\")\n",
    "precision = precision_score(y_true=label_test, y_pred=pred, average=\"weighted\")\n",
    "print('f1', round(f1,2))\n",
    "print('recall', round(recall,2))\n",
    "print('precision', round(precision,2))"
   ]
  },
  {
   "cell_type": "code",
   "execution_count": 31,
   "metadata": {},
   "outputs": [],
   "source": [
    "import keras\n",
    "keras.backend.clear_session()"
   ]
  },
  {
   "cell_type": "code",
   "execution_count": 33,
   "metadata": {},
   "outputs": [
    {
     "name": "stdout",
     "output_type": "stream",
     "text": [
      "Train on 4689 samples, validate on 1900 samples\n",
      "Epoch 1/10\n",
      "4689/4689 [==============================] - 1s 300us/step - loss: 49.7860 - accuracy: 0.5383 - val_loss: 23.3734 - val_accuracy: 0.6468\n",
      "Epoch 2/10\n",
      "4689/4689 [==============================] - 1s 115us/step - loss: 12.7434 - accuracy: 0.6748 - val_loss: 18.3459 - val_accuracy: 0.6616\n",
      "Epoch 3/10\n",
      "4689/4689 [==============================] - 1s 123us/step - loss: 5.7816 - accuracy: 0.7469 - val_loss: 21.5612 - val_accuracy: 0.6474\n",
      "Epoch 4/10\n",
      "4689/4689 [==============================] - 1s 118us/step - loss: 3.4247 - accuracy: 0.8015 - val_loss: 15.2907 - val_accuracy: 0.6726\n",
      "Epoch 5/10\n",
      "4689/4689 [==============================] - 1s 138us/step - loss: 2.2552 - accuracy: 0.8345 - val_loss: 14.4690 - val_accuracy: 0.6653\n",
      "Epoch 6/10\n",
      "4689/4689 [==============================] - 1s 115us/step - loss: 1.7851 - accuracy: 0.8556 - val_loss: 16.1339 - val_accuracy: 0.6868\n",
      "Epoch 7/10\n",
      "4689/4689 [==============================] - 1s 134us/step - loss: 1.2267 - accuracy: 0.8744 - val_loss: 17.6792 - val_accuracy: 0.6547\n",
      "Epoch 8/10\n",
      "4689/4689 [==============================] - 1s 170us/step - loss: 1.1233 - accuracy: 0.8891 - val_loss: 14.9246 - val_accuracy: 0.6926\n",
      "Epoch 9/10\n",
      "4689/4689 [==============================] - 1s 136us/step - loss: 0.7534 - accuracy: 0.9057 - val_loss: 14.4568 - val_accuracy: 0.7026\n",
      "Epoch 10/10\n",
      "4689/4689 [==============================] - 1s 132us/step - loss: 0.8312 - accuracy: 0.9117 - val_loss: 14.7676 - val_accuracy: 0.6995\n"
     ]
    }
   ],
   "source": [
    "model = models.Sequential()\n",
    "model.add(layers.Dense(64, activation='relu', input_shape=(2000,)))\n",
    "model.add(layers.Dense(64, activation='relu'))\n",
    "model.add(layers.Dense(3, activation='softmax'))\n",
    "\n",
    "model.compile(optimizer = 'rmsprop',\n",
    "             loss='categorical_crossentropy',\n",
    "             metrics=['accuracy'])\n",
    "\n",
    "history = model.fit(x_train, label_train_one_hot, epochs=10, batch_size=128, validation_data = (x_val, label_test_one_hot))"
   ]
  },
  {
   "cell_type": "code",
   "execution_count": 34,
   "metadata": {},
   "outputs": [
    {
     "name": "stdout",
     "output_type": "stream",
     "text": [
      "f1 0.69\n",
      "recall 0.7\n",
      "precision 0.69\n"
     ]
    }
   ],
   "source": [
    "pred = model.predict(x_val)\n",
    "pred = lb.inverse_transform(pred)\n",
    "\n",
    "f1 = fbeta_score(y_true=label_test, y_pred=pred, beta=1, average=\"weighted\")\n",
    "recall = recall_score(y_true=label_test, y_pred=pred, average=\"weighted\")\n",
    "precision = precision_score(y_true=label_test, y_pred=pred, average=\"weighted\")\n",
    "print('f1', round(f1,2))\n",
    "print('recall', round(recall,2))\n",
    "print('precision', round(precision,2))"
   ]
  },
  {
   "cell_type": "code",
   "execution_count": 35,
   "metadata": {},
   "outputs": [],
   "source": [
    "keras.backend.clear_session()"
   ]
  },
  {
   "cell_type": "code",
   "execution_count": 37,
   "metadata": {},
   "outputs": [
    {
     "name": "stderr",
     "output_type": "stream",
     "text": [
      "/opt/conda/lib/python3.6/site-packages/tensorflow_core/python/framework/indexed_slices.py:424: UserWarning: Converting sparse IndexedSlices to a dense Tensor of unknown shape. This may consume a large amount of memory.\n",
      "  \"Converting sparse IndexedSlices to a dense Tensor of unknown shape. \"\n"
     ]
    },
    {
     "name": "stdout",
     "output_type": "stream",
     "text": [
      "Train on 4689 samples, validate on 1900 samples\n",
      "Epoch 1/4\n",
      "4689/4689 [==============================] - 29s 6ms/step - loss: 1.2431 - accuracy: 0.5728 - val_loss: 0.8969 - val_accuracy: 0.5700\n",
      "Epoch 2/4\n",
      "4689/4689 [==============================] - 28s 6ms/step - loss: 0.7970 - accuracy: 0.6317 - val_loss: 0.9201 - val_accuracy: 0.6089\n",
      "Epoch 3/4\n",
      "4689/4689 [==============================] - 27s 6ms/step - loss: 0.3381 - accuracy: 0.8923 - val_loss: 1.9078 - val_accuracy: 0.6068\n",
      "Epoch 4/4\n",
      "4689/4689 [==============================] - 27s 6ms/step - loss: 0.1506 - accuracy: 0.9480 - val_loss: 3.5532 - val_accuracy: 0.5895\n",
      "f1 0.47\n",
      "recall 0.59\n",
      "precision 0.62\n"
     ]
    }
   ],
   "source": [
    "from keras.layers import Embedding, Flatten\n",
    "model = models.Sequential()\n",
    "model.add(Embedding(max_words, 100, input_length=maxlen))\n",
    "model.add(Flatten())\n",
    "model.add(layers.Dense(64, activation='relu'))\n",
    "model.add(layers.Dropout(0.5))\n",
    "model.add(layers.Dense(64, activation='relu'))\n",
    "model.add(layers.Dropout(0.5))\n",
    "model.add(layers.Dense(3, activation='softmax'))\n",
    "\n",
    "model.compile(optimizer = 'rmsprop',\n",
    "             loss='categorical_crossentropy',\n",
    "             metrics=['accuracy'])\n",
    "\n",
    "model.fit(x_train, label_train_one_hot,\n",
    "                    epochs=4,\n",
    "                    batch_size=32,\n",
    "                    validation_data=(x_val, label_test_one_hot))\n",
    "\n",
    "pred = model.predict(x_val)\n",
    "pred = lb.inverse_transform(pred)\n",
    "\n",
    "f1 = fbeta_score(y_true=label_test, y_pred=pred, beta=1, average=\"weighted\")\n",
    "recall = recall_score(y_true=label_test, y_pred=pred, average=\"weighted\")\n",
    "precision = precision_score(y_true=label_test, y_pred=pred, average=\"weighted\")\n",
    "print('f1', round(f1,2))\n",
    "print('recall', round(recall,2))\n",
    "print('precision', round(precision,2))"
   ]
  },
  {
   "cell_type": "code",
   "execution_count": 110,
   "metadata": {},
   "outputs": [],
   "source": [
    "keras.backend.clear_session()"
   ]
  },
  {
   "cell_type": "code",
   "execution_count": 39,
   "metadata": {},
   "outputs": [
    {
     "name": "stderr",
     "output_type": "stream",
     "text": [
      "/opt/conda/lib/python3.6/site-packages/tensorflow_core/python/framework/indexed_slices.py:424: UserWarning: Converting sparse IndexedSlices to a dense Tensor of unknown shape. This may consume a large amount of memory.\n",
      "  \"Converting sparse IndexedSlices to a dense Tensor of unknown shape. \"\n"
     ]
    },
    {
     "name": "stdout",
     "output_type": "stream",
     "text": [
      "Train on 4689 samples, validate on 1900 samples\n",
      "Epoch 1/1\n",
      "4689/4689 [==============================] - 1305s 278ms/step - loss: 0.4549 - accuracy: 0.8584 - val_loss: 1.1822 - val_accuracy: 0.6432\n",
      "f1 0.59\n",
      "recall 0.64\n",
      "precision 0.6\n"
     ]
    },
    {
     "name": "stderr",
     "output_type": "stream",
     "text": [
      "/opt/conda/lib/python3.6/site-packages/sklearn/metrics/classification.py:1437: UndefinedMetricWarning: F-score is ill-defined and being set to 0.0 in labels with no predicted samples.\n",
      "  'precision', 'predicted', average, warn_for)\n",
      "/opt/conda/lib/python3.6/site-packages/sklearn/metrics/classification.py:1437: UndefinedMetricWarning: Precision is ill-defined and being set to 0.0 in labels with no predicted samples.\n",
      "  'precision', 'predicted', average, warn_for)\n"
     ]
    }
   ],
   "source": [
    "from keras.layers import LSTM\n",
    "model = models.Sequential()\n",
    "model.add(Embedding(max_words, 100, input_length=maxlen))\n",
    "model.add(layers.LSTM(32))\n",
    "model.add(layers.Dropout(0.3))\n",
    "model.add(layers.Dense(3, activation='softmax'))\n",
    "\n",
    "model.compile(optimizer = 'rmsprop',\n",
    "             loss='categorical_crossentropy',\n",
    "             metrics=['accuracy'])\n",
    "\n",
    "model.fit(x_train, label_train_one_hot,\n",
    "                    epochs=1,\n",
    "                    batch_size=31,\n",
    "                    validation_data=(x_val, label_test_one_hot))\n",
    "\n",
    "pred = model.predict(x_val)\n",
    "pred = lb.inverse_transform(pred)\n",
    "\n",
    "f1 = fbeta_score(y_true=label_test, y_pred=pred, beta=1, average=\"weighted\")\n",
    "recall = recall_score(y_true=label_test, y_pred=pred, average=\"weighted\")\n",
    "precision = precision_score(y_true=label_test, y_pred=pred, average=\"weighted\")\n",
    "print('f1', round(f1,2))\n",
    "print('recall', round(recall,2))\n",
    "print('precision', round(precision,2))"
   ]
  },
  {
   "cell_type": "code",
   "execution_count": 40,
   "metadata": {},
   "outputs": [],
   "source": [
    "keras.backend.clear_session()"
   ]
  },
  {
   "cell_type": "code",
   "execution_count": 41,
   "metadata": {},
   "outputs": [
    {
     "name": "stderr",
     "output_type": "stream",
     "text": [
      "/opt/conda/lib/python3.6/site-packages/tensorflow_core/python/framework/indexed_slices.py:424: UserWarning: Converting sparse IndexedSlices to a dense Tensor of unknown shape. This may consume a large amount of memory.\n",
      "  \"Converting sparse IndexedSlices to a dense Tensor of unknown shape. \"\n"
     ]
    },
    {
     "name": "stdout",
     "output_type": "stream",
     "text": [
      "Train on 4689 samples, validate on 1900 samples\n",
      "Epoch 1/10\n",
      "4689/4689 [==============================] - 34s 7ms/step - loss: 0.3298 - accuracy: 0.8708 - val_loss: 1.7830 - val_accuracy: 0.5674\n",
      "Epoch 2/10\n",
      "4689/4689 [==============================] - 33s 7ms/step - loss: 0.0742 - accuracy: 0.9785 - val_loss: 3.8127 - val_accuracy: 0.5711\n",
      "Epoch 3/10\n",
      "4689/4689 [==============================] - 32s 7ms/step - loss: 0.0234 - accuracy: 0.9934 - val_loss: 3.5811 - val_accuracy: 0.5774\n",
      "Epoch 4/10\n",
      "4689/4689 [==============================] - 32s 7ms/step - loss: 0.0122 - accuracy: 0.9968 - val_loss: 4.2059 - val_accuracy: 0.5721\n",
      "Epoch 5/10\n",
      "4689/4689 [==============================] - 33s 7ms/step - loss: 0.0079 - accuracy: 0.9979 - val_loss: 4.5775 - val_accuracy: 0.5679\n",
      "Epoch 6/10\n",
      "4689/4689 [==============================] - 33s 7ms/step - loss: 0.0060 - accuracy: 0.9985 - val_loss: 5.4320 - val_accuracy: 0.5747\n",
      "Epoch 7/10\n",
      "4689/4689 [==============================] - 33s 7ms/step - loss: 0.0057 - accuracy: 0.9987 - val_loss: 6.3754 - val_accuracy: 0.5747\n",
      "Epoch 8/10\n",
      "4689/4689 [==============================] - 33s 7ms/step - loss: 0.0047 - accuracy: 0.9985 - val_loss: 6.9651 - val_accuracy: 0.5747\n",
      "Epoch 9/10\n",
      "4689/4689 [==============================] - 33s 7ms/step - loss: 0.0043 - accuracy: 0.9989 - val_loss: 7.8468 - val_accuracy: 0.5774\n",
      "Epoch 10/10\n",
      "4689/4689 [==============================] - 33s 7ms/step - loss: 0.0056 - accuracy: 0.9991 - val_loss: 8.2237 - val_accuracy: 0.5753\n"
     ]
    },
    {
     "data": {
      "text/plain": [
       "<keras.callbacks.callbacks.History at 0x7faef567bfd0>"
      ]
     },
     "execution_count": 41,
     "metadata": {},
     "output_type": "execute_result"
    }
   ],
   "source": [
    "model = models.Sequential()\n",
    "model.add(Embedding(max_words, 100, input_length=maxlen))\n",
    "model.add(layers.Conv1D(32, 7, activation = 'relu'))\n",
    "model.add(layers.MaxPooling1D(5))\n",
    "model.add(layers.Conv1D(32, 7, activation = 'relu'))\n",
    "model.add(layers.GlobalMaxPooling1D())\n",
    "model.add(layers.Dense(3, activation='softmax'))\n",
    "\n",
    "model.compile(optimizer = 'rmsprop',\n",
    "             loss='categorical_crossentropy',\n",
    "             metrics=['accuracy'])\n",
    "\n",
    "model.fit(x_train, label_train_one_hot,\n",
    "                    epochs=10,\n",
    "                    batch_size=32,\n",
    "                    validation_data=(x_val, label_test_one_hot))"
   ]
  },
  {
   "cell_type": "code",
   "execution_count": 42,
   "metadata": {},
   "outputs": [
    {
     "name": "stdout",
     "output_type": "stream",
     "text": [
      "f1 0.47\n",
      "recall 0.58\n",
      "precision 0.53\n"
     ]
    }
   ],
   "source": [
    "pred = model.predict(x_val)\n",
    "pred = lb.inverse_transform(pred)\n",
    "\n",
    "f1 = fbeta_score(y_true=label_test, y_pred=pred, beta=1, average=\"weighted\")\n",
    "recall = recall_score(y_true=label_test, y_pred=pred, average=\"weighted\")\n",
    "precision = precision_score(y_true=label_test, y_pred=pred, average=\"weighted\")\n",
    "print('f1', round(f1,2))\n",
    "print('recall', round(recall,2))\n",
    "print('precision', round(precision,2))"
   ]
  }
 ],
 "metadata": {
  "kernelspec": {
   "display_name": "Python 3",
   "language": "python",
   "name": "python3"
  },
  "language_info": {
   "codemirror_mode": {
    "name": "ipython",
    "version": 3
   },
   "file_extension": ".py",
   "mimetype": "text/x-python",
   "name": "python",
   "nbconvert_exporter": "python",
   "pygments_lexer": "ipython3",
   "version": "3.6.10"
  }
 },
 "nbformat": 4,
 "nbformat_minor": 4
}
