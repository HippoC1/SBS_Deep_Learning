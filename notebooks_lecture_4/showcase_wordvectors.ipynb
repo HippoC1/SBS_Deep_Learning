{
 "cells": [
  {
   "cell_type": "code",
   "execution_count": 1,
   "metadata": {},
   "outputs": [],
   "source": [
    "import gensim"
   ]
  },
  {
   "cell_type": "code",
   "execution_count": 4,
   "metadata": {},
   "outputs": [
    {
     "name": "stdout",
     "output_type": "stream",
     "text": [
      "--2020-05-29 14:57:14--  http://nlp.stanford.edu/data/glove.6B.zip\n",
      "Resolving nlp.stanford.edu (nlp.stanford.edu)... 171.64.67.140\n",
      "Connecting to nlp.stanford.edu (nlp.stanford.edu)|171.64.67.140|:80... connected.\n",
      "HTTP request sent, awaiting response... 302 Found\n",
      "Location: https://nlp.stanford.edu/data/glove.6B.zip [following]\n",
      "--2020-05-29 14:57:15--  https://nlp.stanford.edu/data/glove.6B.zip\n",
      "Connecting to nlp.stanford.edu (nlp.stanford.edu)|171.64.67.140|:443... connected.\n",
      "HTTP request sent, awaiting response... 301 Moved Permanently\n",
      "Location: http://downloads.cs.stanford.edu/nlp/data/glove.6B.zip [following]\n",
      "--2020-05-29 14:57:15--  http://downloads.cs.stanford.edu/nlp/data/glove.6B.zip\n",
      "Resolving downloads.cs.stanford.edu (downloads.cs.stanford.edu)... 171.64.64.22\n",
      "Connecting to downloads.cs.stanford.edu (downloads.cs.stanford.edu)|171.64.64.22|:80... connected.\n",
      "HTTP request sent, awaiting response... 200 OK\n",
      "Length: 862182613 (822M) [application/zip]\n",
      "Saving to: ‘glove.6B.zip’\n",
      "\n",
      "100%[======================================>] 862,182,613 2.18MB/s   in 6m 31s \n",
      "\n",
      "2020-05-29 15:03:47 (2.10 MB/s) - ‘glove.6B.zip’ saved [862182613/862182613]\n",
      "\n"
     ]
    }
   ],
   "source": [
    "!wget http://nlp.stanford.edu/data/glove.6B.zip"
   ]
  },
  {
   "cell_type": "code",
   "execution_count": 5,
   "metadata": {},
   "outputs": [
    {
     "name": "stdout",
     "output_type": "stream",
     "text": [
      "Archive:  glove.6B.zip\n",
      "  inflating: glove.6B.50d.txt        \n",
      "  inflating: glove.6B.100d.txt       \n",
      "  inflating: glove.6B.200d.txt       \n",
      "  inflating: glove.6B.300d.txt       \n"
     ]
    }
   ],
   "source": [
    "!unzip glove*.zip"
   ]
  },
  {
   "cell_type": "code",
   "execution_count": 6,
   "metadata": {},
   "outputs": [
    {
     "name": "stdout",
     "output_type": "stream",
     "text": [
      "ads-examples\t\t\t     model2\n",
      "deep-learning-with-python-notebooks  nltk_data\n",
      "getting-started.ipynb\t\t     reuters.ipynb\n",
      "glove.6B.100d.txt\t\t     reuters_v2.ipynb\n",
      "glove.6B.200d.txt\t\t     showcase_wordvectors.ipynb\n",
      "glove.6B.300d.txt\t\t     test\n",
      "glove.6B.50d.txt\t\t     Untitled1.ipynb\n",
      "glove.6B.zip\t\t\t     Untitled2.ipynb\n",
      "LegalTech\t\t\t     Untitled.ipynb\n",
      "model\n",
      "/home/datascience\n"
     ]
    }
   ],
   "source": [
    "!ls\n",
    "!pwd"
   ]
  },
  {
   "cell_type": "code",
   "execution_count": 2,
   "metadata": {},
   "outputs": [
    {
     "name": "stderr",
     "output_type": "stream",
     "text": [
      "/opt/conda/lib/python3.6/site-packages/smart_open/smart_open_lib.py:253: UserWarning: This function is deprecated, use smart_open.open instead. See the migration notes for details: https://github.com/RaRe-Technologies/smart_open/blob/master/README.rst#migrating-to-the-new-open-function\n",
      "  'See the migration notes for details: %s' % _MIGRATION_NOTES_URL\n"
     ]
    },
    {
     "data": {
      "text/plain": [
       "(400000, 100)"
      ]
     },
     "execution_count": 2,
     "metadata": {},
     "output_type": "execute_result"
    }
   ],
   "source": [
    "from gensim.test.utils import datapath, get_tmpfile\n",
    "from gensim.scripts.glove2word2vec import glove2word2vec\n",
    "glove_file = datapath('/home/datascience/glove.6B.100d.txt')\n",
    "word2vec_glove_file = get_tmpfile('glove.6B.100d.word2vec.text')\n",
    "glove2word2vec(glove_file, word2vec_glove_file)"
   ]
  },
  {
   "cell_type": "code",
   "execution_count": 4,
   "metadata": {},
   "outputs": [],
   "source": [
    "from gensim.models import KeyedVectors, Phrases\n",
    "model = KeyedVectors.load_word2vec_format(word2vec_glove_file)"
   ]
  },
  {
   "cell_type": "code",
   "execution_count": 5,
   "metadata": {},
   "outputs": [
    {
     "data": {
      "text/plain": [
       "[('cambridge', 0.8965963125228882),\n",
       " ('exeter', 0.73573899269104),\n",
       " ('trinity', 0.7060723304748535),\n",
       " ('yale', 0.685872495174408),\n",
       " ('college', 0.6758548021316528),\n",
       " ('harvard', 0.6712058186531067),\n",
       " ('balliol', 0.6619131565093994),\n",
       " ('eton', 0.6580604314804077),\n",
       " ('edinburgh', 0.6520877480506897),\n",
       " ('university', 0.6482779383659363)]"
      ]
     },
     "execution_count": 5,
     "metadata": {},
     "output_type": "execute_result"
    }
   ],
   "source": [
    "model.most_similar('oxford')"
   ]
  },
  {
   "cell_type": "code",
   "execution_count": 6,
   "metadata": {},
   "outputs": [
    {
     "data": {
      "text/plain": [
       "[('relativity', 0.6908349394798279),\n",
       " ('freud', 0.6417257785797119),\n",
       " ('physics', 0.6145339012145996),\n",
       " ('bohr', 0.6144247055053711),\n",
       " ('theory', 0.6042598485946655),\n",
       " ('quantum', 0.5993834733963013),\n",
       " ('sigmund', 0.5698959827423096),\n",
       " ('theories', 0.540874719619751),\n",
       " ('cosmological', 0.5396159887313843),\n",
       " ('equations', 0.5371723771095276)]"
      ]
     },
     "execution_count": 6,
     "metadata": {},
     "output_type": "execute_result"
    }
   ],
   "source": [
    "model.most_similar('einstein')"
   ]
  },
  {
   "cell_type": "code",
   "execution_count": 17,
   "metadata": {},
   "outputs": [
    {
     "data": {
      "text/plain": [
       "[('climatology', 0.5433846712112427),\n",
       " ('criminology', 0.5418572425842285),\n",
       " ('econometric', 0.5290030837059021),\n",
       " ('geomorphology', 0.51249098777771),\n",
       " ('cybernetics', 0.4829123020172119),\n",
       " ('maplewood', 0.48233187198638916),\n",
       " ('geology', 0.48046815395355225),\n",
       " ('kisco', 0.47753316164016724),\n",
       " ('hydrogeology', 0.4760681688785553),\n",
       " ('microeconomics', 0.4749159812927246)]"
      ]
     },
     "execution_count": 17,
     "metadata": {},
     "output_type": "execute_result"
    }
   ],
   "source": [
    "model.most_similar('econometrics')"
   ]
  },
  {
   "cell_type": "code",
   "execution_count": 18,
   "metadata": {},
   "outputs": [
    {
     "data": {
      "text/plain": [
       "[('flu', 0.8397523760795593),\n",
       " ('influenza', 0.8194246292114258),\n",
       " ('h5n1', 0.812867283821106),\n",
       " ('viruses', 0.7962247133255005),\n",
       " ('infected', 0.7917227745056152),\n",
       " ('infection', 0.7857719659805298),\n",
       " ('disease', 0.7816259264945984),\n",
       " ('avian', 0.7632812261581421),\n",
       " ('swine', 0.7530721426010132),\n",
       " ('h1n1', 0.7486397624015808)]"
      ]
     },
     "execution_count": 18,
     "metadata": {},
     "output_type": "execute_result"
    }
   ],
   "source": [
    "model.most_similar('virus')"
   ]
  },
  {
   "cell_type": "code",
   "execution_count": 23,
   "metadata": {},
   "outputs": [
    {
     "data": {
      "text/plain": [
       "[('jobs', 0.7932984828948975),\n",
       " ('better', 0.7354212999343872),\n",
       " ('doing', 0.7352380752563477),\n",
       " ('working', 0.7307748794555664),\n",
       " ('work', 0.7281291484832764),\n",
       " ('hiring', 0.7160316705703735),\n",
       " ('good', 0.708824634552002),\n",
       " ('done', 0.7070804834365845),\n",
       " ('going', 0.7031288146972656),\n",
       " ('now', 0.697978138923645)]"
      ]
     },
     "execution_count": 23,
     "metadata": {},
     "output_type": "execute_result"
    }
   ],
   "source": [
    "model.most_similar('job')"
   ]
  },
  {
   "cell_type": "code",
   "execution_count": 24,
   "metadata": {},
   "outputs": [
    {
     "data": {
      "text/plain": [
       "[('u.s.', 0.7868137359619141),\n",
       " ('british', 0.7301285862922668),\n",
       " ('america', 0.7278162240982056),\n",
       " ('americans', 0.725959300994873),\n",
       " ('us', 0.7098501324653625),\n",
       " ('states', 0.6988692879676819),\n",
       " ('canadian', 0.6986786723136902),\n",
       " ('united', 0.6888286471366882),\n",
       " ('world', 0.6818901300430298),\n",
       " ('as', 0.6723790168762207)]"
      ]
     },
     "execution_count": 24,
     "metadata": {},
     "output_type": "execute_result"
    }
   ],
   "source": [
    "model.most_similar('american')"
   ]
  },
  {
   "cell_type": "code",
   "execution_count": 25,
   "metadata": {},
   "outputs": [
    {
     "data": {
      "text/plain": [
       "[('nows', 0.5873242616653442),\n",
       " ('hilton', 0.5507662892341614),\n",
       " ('casino', 0.5180235505104065),\n",
       " ('ivanka', 0.5056729316711426),\n",
       " ('mih', 0.47354456782341003),\n",
       " ('mahal', 0.47065550088882446),\n",
       " ('taj', 0.4643707275390625),\n",
       " ('condo', 0.46357983350753784),\n",
       " ('vegas', 0.4624684453010559),\n",
       " ('developer', 0.46145099401474)]"
      ]
     },
     "execution_count": 25,
     "metadata": {},
     "output_type": "execute_result"
    }
   ],
   "source": [
    "model.most_similar('trump')"
   ]
  },
  {
   "cell_type": "code",
   "execution_count": 12,
   "metadata": {},
   "outputs": [
    {
     "data": {
      "text/plain": [
       "[('frances', 0.6299595236778259),\n",
       " ('plath', 0.6063801050186157),\n",
       " ('donna', 0.6047697067260742),\n",
       " ('emily', 0.6026995778083801),\n",
       " ('sophie', 0.6013917922973633),\n",
       " ('kathryn', 0.6002940535545349),\n",
       " ('amy', 0.5935291051864624),\n",
       " ('joan', 0.5919348001480103),\n",
       " ('jane', 0.5890323519706726),\n",
       " ('lucy', 0.587951123714447)]"
      ]
     },
     "execution_count": 12,
     "metadata": {},
     "output_type": "execute_result"
    }
   ],
   "source": [
    "model.most_similar('clinton')"
   ]
  },
  {
   "cell_type": "code",
   "execution_count": 9,
   "metadata": {},
   "outputs": [],
   "source": [
    "def analogy(x1, x2, y1):\n",
    "    result = model.most_similar(positive=[y1, x2], negative=[x1])\n",
    "    return result[0][0]"
   ]
  },
  {
   "cell_type": "code",
   "execution_count": 22,
   "metadata": {},
   "outputs": [
    {
     "data": {
      "text/plain": [
       "'queen'"
      ]
     },
     "execution_count": 22,
     "metadata": {},
     "output_type": "execute_result"
    }
   ],
   "source": [
    "analogy('man', 'king', 'woman')"
   ]
  },
  {
   "cell_type": "code",
   "execution_count": 27,
   "metadata": {},
   "outputs": [
    {
     "data": {
      "text/plain": [
       "'incredible'"
      ]
     },
     "execution_count": 27,
     "metadata": {},
     "output_type": "execute_result"
    }
   ],
   "source": [
    "analogy('sociology', 'awesome', 'economics')"
   ]
  },
  {
   "cell_type": "code",
   "execution_count": 13,
   "metadata": {},
   "outputs": [
    {
     "data": {
      "text/plain": [
       "'league'"
      ]
     },
     "execution_count": 13,
     "metadata": {},
     "output_type": "execute_result"
    }
   ],
   "source": [
    "analogy('chelsea', 'football', 'liverpool')"
   ]
  },
  {
   "cell_type": "code",
   "execution_count": 19,
   "metadata": {},
   "outputs": [
    {
     "data": {
      "text/plain": [
       "'expensive'"
      ]
     },
     "execution_count": 19,
     "metadata": {},
     "output_type": "execute_result"
    }
   ],
   "source": [
    "analogy('nissan', 'cheap', 'mercedes')"
   ]
  },
  {
   "cell_type": "code",
   "execution_count": 40,
   "metadata": {},
   "outputs": [],
   "source": [
    "import matplotlib.pyplot as plt\n",
    "from sklearn.decomposition import PCA\n",
    "def display_pca_scatterplot(model, words=None, sample=0):\n",
    "    if words ==None:\n",
    "        if sample > 0:\n",
    "            words = np.random.choice(list(model.vocab.keys()), sample)\n",
    "        else:\n",
    "            words = [ word for word in model.vocab ]\n",
    "    word_vectors = np.array([model[w] for w in words])\n",
    "    twodim = PCA().fit_transform(word_vectors)[:,:2]\n",
    "\n",
    "    plt.figure(figsize=(6,6))\n",
    "    plt.scatter(twodim[:,0], twodim[:,1], edgecolors='k', c='r')\n",
    "    for word, (x,y) in zip(words, twodim):\n",
    "        plt.text(x+0.05, y+0.05, word)"
   ]
  },
  {
   "cell_type": "code",
   "execution_count": 54,
   "metadata": {},
   "outputs": [
    {
     "data": {
      "image/png": "[encoded data removed]",
      "text/plain": [
       "<Figure size 432x432 with 1 Axes>"
      ]
     },
     "metadata": {
      "needs_background": "light"
     },
     "output_type": "display_data"
    }
   ],
   "source": [
    "%matplotlib inline\n",
    "display_pca_scatterplot(model,\n",
    "                       ['coffee', 'tea', 'prince', 'princess','duck','economics', 'human', 'girl'\n",
    "                       ,'boy', 'sociology', 'finance', \n",
    "                        'philosophy', 'business', 'king', 'queen'])"
   ]
  }
 ],
 "metadata": {
  "kernelspec": {
   "display_name": "Python 3",
   "language": "python",
   "name": "python3"
  },
  "language_info": {
   "codemirror_mode": {
    "name": "ipython",
    "version": 3
   },
   "file_extension": ".py",
   "mimetype": "text/x-python",
   "name": "python",
   "nbconvert_exporter": "python",
   "pygments_lexer": "ipython3",
   "version": "3.6.10"
  }
 },
 "nbformat": 4,
 "nbformat_minor": 4
}
